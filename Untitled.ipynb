{
 "cells": [
  {
   "cell_type": "code",
   "execution_count": 1,
   "id": "646bcbc3",
   "metadata": {},
   "outputs": [
    {
     "name": "stdout",
     "output_type": "stream",
     "text": [
      "Requirement already satisfied: rdflib in c:\\python38\\lib\\site-packages (6.0.2)\n",
      "Requirement already satisfied: pyparsing in c:\\python38\\lib\\site-packages (from rdflib) (3.0.6)\n",
      "Requirement already satisfied: isodate in c:\\python38\\lib\\site-packages (from rdflib) (0.6.1)\n",
      "Requirement already satisfied: setuptools in c:\\python38\\lib\\site-packages (from rdflib) (56.0.0)\n",
      "Requirement already satisfied: six in c:\\python38\\lib\\site-packages (from isodate->rdflib) (1.16.0)\n",
      "Note: you may need to restart the kernel to use updated packages.\n"
     ]
    },
    {
     "name": "stderr",
     "output_type": "stream",
     "text": [
      "WARNING: You are using pip version 21.1.1; however, version 21.3.1 is available.\n",
      "You should consider upgrading via the 'c:\\python38\\python.exe -m pip install --upgrade pip' command.\n"
     ]
    }
   ],
   "source": [
    "pip install rdflib\n"
   ]
  },
  {
   "cell_type": "code",
   "execution_count": 2,
   "id": "ad8c2bd4",
   "metadata": {},
   "outputs": [],
   "source": [
    "import rdflib\n"
   ]
  },
  {
   "cell_type": "code",
   "execution_count": 3,
   "id": "db37211a",
   "metadata": {},
   "outputs": [
    {
     "data": {
      "text/plain": [
       "<Graph identifier=N2d0a9315e9f649c692a79d86182157af (<class 'rdflib.graph.Graph'>)>"
      ]
     },
     "execution_count": 3,
     "metadata": {},
     "output_type": "execute_result"
    }
   ],
   "source": [
    "g = rdflib.Graph()'http://data.biographynet.nl/rdf/PersonDes-44287831_05'\n",
    "g.parse()"
   ]
  },
  {
   "cell_type": "code",
   "execution_count": 11,
   "id": "45aa43e6",
   "metadata": {},
   "outputs": [
    {
     "ename": "IndentationError",
     "evalue": "expected an indented block (Temp/ipykernel_9748/2000348500.py, line 2)",
     "output_type": "error",
     "traceback": [
      "\u001b[1;36m  File \u001b[1;32m\"C:\\Users\\tho310\\AppData\\Local\\Temp/ipykernel_9748/2000348500.py\"\u001b[1;36m, line \u001b[1;32m2\u001b[0m\n\u001b[1;33m    print(s,p,o)\u001b[0m\n\u001b[1;37m    ^\u001b[0m\n\u001b[1;31mIndentationError\u001b[0m\u001b[1;31m:\u001b[0m expected an indented block\n"
     ]
    }
   ],
   "source": [
    "for s,p,o in g:\n",
    "print(s,p,o)\n"
   ]
  },
  {
   "cell_type": "code",
   "execution_count": 12,
   "id": "4c477d2e",
   "metadata": {},
   "outputs": [
    {
     "name": "stdout",
     "output_type": "stream",
     "text": [
      "N232898386ea14045a0a4321cac23a127 http://data.biographynet.nl/rdf/place Delft\n"
     ]
    }
   ],
   "source": [
    "for s,p,o in g:\n",
    "    print(s,p,o)\n",
    "    break"
   ]
  },
  {
   "cell_type": "code",
   "execution_count": 15,
   "id": "9c76e22b",
   "metadata": {},
   "outputs": [
    {
     "name": "stdout",
     "output_type": "stream",
     "text": [
      "Triple exists!\n"
     ]
    }
   ],
   "source": [
    "from rdflib import URIRef\n",
    "if (URIRef('http://data.biographynet.nl/rdf/PersonDes-44287831_05'),None,None) in g:\n",
    "    print(f'Triple exists!')\n",
    "else:\n",
    "    print(f'Triple does not exists!')\n",
    "        "
   ]
  },
  {
   "cell_type": "code",
   "execution_count": 14,
   "id": "0981b30a",
   "metadata": {},
   "outputs": [
    {
     "name": "stdout",
     "output_type": "stream",
     "text": [
      "25\n"
     ]
    }
   ],
   "source": [
    "print(len(g))"
   ]
  },
  {
   "cell_type": "code",
   "execution_count": 17,
   "id": "6ab309d3",
   "metadata": {},
   "outputs": [
    {
     "name": "stdout",
     "output_type": "stream",
     "text": [
      "{rdflib.term.URIRef('http://data.biographynet.nl/rdf/date'),\n",
      " rdflib.term.URIRef('http://data.biographynet.nl/rdf/event'),\n",
      " rdflib.term.URIRef('http://data.biographynet.nl/rdf/hasPersonDes'),\n",
      " rdflib.term.URIRef('http://data.biographynet.nl/rdf/idno'),\n",
      " rdflib.term.URIRef('http://data.biographynet.nl/rdf/personName'),\n",
      " rdflib.term.URIRef('http://data.biographynet.nl/rdf/place'),\n",
      " rdflib.term.URIRef('http://data.biographynet.nl/rdf/sex'),\n",
      " rdflib.term.URIRef('http://data.biographynet.nl/rdf/type'),\n",
      " rdflib.term.URIRef('http://data.biographynet.nl/rdf/when'),\n",
      " rdflib.term.URIRef('http://www.openarchives.org/ore/terms/proxyFor'),\n",
      " rdflib.term.URIRef('http://www.openarchives.org/ore/terms/proxyIn'),\n",
      " rdflib.term.URIRef('http://www.w3.org/1999/02/22-rdf-syntax-ns#type')}\n"
     ]
    }
   ],
   "source": [
    "#Get set of properties\n",
    "from rdflib.namespace import RDF,RDFS,OWL,FOAF\n",
    "properties1 = set()\n",
    "for s,p,o in g:\n",
    "    properties1.add(p)\n",
    "\n",
    "from pprint import pprint\n",
    "pprint(properties1)"
   ]
  },
  {
   "cell_type": "code",
   "execution_count": 18,
   "id": "b7d369b6",
   "metadata": {},
   "outputs": [
    {
     "data": {
      "text/plain": [
       "12"
      ]
     },
     "execution_count": 18,
     "metadata": {},
     "output_type": "execute_result"
    }
   ],
   "source": [
    "#check how many properties in the graph\n",
    "len(properties1)"
   ]
  },
  {
   "cell_type": "code",
   "execution_count": 19,
   "id": "9552a435",
   "metadata": {},
   "outputs": [
    {
     "name": "stdout",
     "output_type": "stream",
     "text": [
      "{rdflib.term.URIRef('http://data.biographynet.nl/rdf/date'),\n",
      " rdflib.term.URIRef('http://data.biographynet.nl/rdf/event'),\n",
      " rdflib.term.URIRef('http://data.biographynet.nl/rdf/hasPersonDes'),\n",
      " rdflib.term.URIRef('http://data.biographynet.nl/rdf/idno'),\n",
      " rdflib.term.URIRef('http://data.biographynet.nl/rdf/personName'),\n",
      " rdflib.term.URIRef('http://data.biographynet.nl/rdf/place'),\n",
      " rdflib.term.URIRef('http://data.biographynet.nl/rdf/sex'),\n",
      " rdflib.term.URIRef('http://data.biographynet.nl/rdf/type'),\n",
      " rdflib.term.URIRef('http://data.biographynet.nl/rdf/when'),\n",
      " rdflib.term.URIRef('http://www.openarchives.org/ore/terms/proxyFor'),\n",
      " rdflib.term.URIRef('http://www.openarchives.org/ore/terms/proxyIn'),\n",
      " rdflib.term.URIRef('http://www.w3.org/1999/02/22-rdf-syntax-ns#type')}\n"
     ]
    }
   ],
   "source": [
    "properties2 = set()\n",
    "for p in g.predicates():\n",
    "    properties2.add(p)\n",
    "\n",
    "pprint(properties2)"
   ]
  },
  {
   "cell_type": "code",
   "execution_count": 28,
   "id": "1a93c918",
   "metadata": {},
   "outputs": [
    {
     "name": "stdout",
     "output_type": "stream",
     "text": [
      "http://data.biographynet.nl/rdf/PersonDes\n",
      "http://data.biographynet.nl/rdf/Event\n",
      "http://data.biographynet.nl/rdf/Event\n",
      "http://www.openarchives.org/ore/terms/Proxy\n"
     ]
    }
   ],
   "source": [
    "#Iterate over list of labels\n",
    "for s,o in g.subject_objects(RDF.type):\n",
    "    print(o)"
   ]
  },
  {
   "cell_type": "code",
   "execution_count": 29,
   "id": "bc91326c",
   "metadata": {},
   "outputs": [
    {
     "name": "stdout",
     "output_type": "stream",
     "text": [
      "<bound method Graph.value of <Graph identifier=N2d0a9315e9f649c692a79d86182157af (<class 'rdflib.graph.Graph'>)>>\n"
     ]
    },
    {
     "ename": "TypeError",
     "evalue": "'NoneType' object is not callable",
     "output_type": "error",
     "traceback": [
      "\u001b[1;31m---------------------------------------------------------------------------\u001b[0m",
      "\u001b[1;31mTypeError\u001b[0m                                 Traceback (most recent call last)",
      "\u001b[1;32m~\\AppData\\Local\\Temp/ipykernel_9748/840348446.py\u001b[0m in \u001b[0;36m<module>\u001b[1;34m\u001b[0m\n\u001b[0;32m      2\u001b[0m \u001b[0mBGD\u001b[0m \u001b[1;33m=\u001b[0m \u001b[0mNamespace\u001b[0m\u001b[1;33m(\u001b[0m\u001b[1;34m'http://data.biographynet.nl/rdf/'\u001b[0m\u001b[1;33m)\u001b[0m\u001b[1;33m\u001b[0m\u001b[1;33m\u001b[0m\u001b[0m\n\u001b[0;32m      3\u001b[0m \u001b[0mORE\u001b[0m \u001b[1;33m=\u001b[0m \u001b[0mNamespace\u001b[0m\u001b[1;33m(\u001b[0m\u001b[1;34m'http://www.openarchives.org/ore/terms/'\u001b[0m\u001b[1;33m)\u001b[0m\u001b[1;33m\u001b[0m\u001b[1;33m\u001b[0m\u001b[0m\n\u001b[1;32m----> 4\u001b[1;33m \u001b[0mprint\u001b[0m\u001b[1;33m(\u001b[0m\u001b[0mg\u001b[0m\u001b[1;33m.\u001b[0m\u001b[0mvalue\u001b[0m\u001b[1;33m)\u001b[0m\u001b[1;33m(\u001b[0m\u001b[0mBGD\u001b[0m\u001b[1;33m[\u001b[0m\u001b[1;34m'PersonDes-44287831_05'\u001b[0m\u001b[1;33m]\u001b[0m\u001b[1;33m,\u001b[0m\u001b[0mRDFS\u001b[0m\u001b[1;33m.\u001b[0m\u001b[0mlabel\u001b[0m\u001b[1;33m,\u001b[0m\u001b[1;32mNone\u001b[0m\u001b[1;33m)\u001b[0m\u001b[1;33m\u001b[0m\u001b[1;33m\u001b[0m\u001b[0m\n\u001b[0m",
      "\u001b[1;31mTypeError\u001b[0m: 'NoneType' object is not callable"
     ]
    }
   ],
   "source": [
    "from rdflib import Namespace\n",
    "BGD = Namespace('http://data.biographynet.nl/rdf/')\n",
    "ORE = Namespace('http://www.openarchives.org/ore/terms/')\n",
    "print(g.value)(BGD['PersonDes-44287831_05'],RDFS.label,None)"
   ]
  },
  {
   "cell_type": "code",
   "execution_count": 30,
   "id": "deee8a87",
   "metadata": {},
   "outputs": [
    {
     "name": "stdout",
     "output_type": "stream",
     "text": [
      "http://data.biographynet.nl/rdf/place\n",
      "http://data.biographynet.nl/rdf/idno\n",
      "http://data.biographynet.nl/rdf/type\n",
      "http://www.w3.org/1999/02/22-rdf-syntax-ns#type\n",
      "http://www.w3.org/1999/02/22-rdf-syntax-ns#type\n",
      "http://data.biographynet.nl/rdf/when\n",
      "http://data.biographynet.nl/rdf/event\n",
      "http://data.biographynet.nl/rdf/place\n",
      "http://data.biographynet.nl/rdf/idno\n",
      "http://data.biographynet.nl/rdf/hasPersonDes\n",
      "http://data.biographynet.nl/rdf/idno\n",
      "http://data.biographynet.nl/rdf/sex\n",
      "http://data.biographynet.nl/rdf/idno\n",
      "http://www.openarchives.org/ore/terms/proxyIn\n",
      "http://data.biographynet.nl/rdf/event\n",
      "http://data.biographynet.nl/rdf/when\n",
      "http://data.biographynet.nl/rdf/idno\n",
      "http://data.biographynet.nl/rdf/date\n",
      "http://data.biographynet.nl/rdf/idno\n",
      "http://www.openarchives.org/ore/terms/proxyFor\n",
      "http://www.w3.org/1999/02/22-rdf-syntax-ns#type\n",
      "http://data.biographynet.nl/rdf/type\n",
      "http://data.biographynet.nl/rdf/personName\n",
      "http://data.biographynet.nl/rdf/date\n",
      "http://www.w3.org/1999/02/22-rdf-syntax-ns#type\n"
     ]
    }
   ],
   "source": [
    "for s, p, o in g:\n",
    "    print(p)"
   ]
  },
  {
   "cell_type": "code",
   "execution_count": 31,
   "id": "49996073",
   "metadata": {},
   "outputs": [
    {
     "name": "stdout",
     "output_type": "stream",
     "text": [
      "N232898386ea14045a0a4321cac23a127\n",
      "http://data.biographynet.nl/rdf/PersonDes-44287831_05\n",
      "Nb4b441084e3044a1b06f8ddcec262f32\n",
      "Nb4b441084e3044a1b06f8ddcec262f32\n",
      "N232898386ea14045a0a4321cac23a127\n",
      "N232898386ea14045a0a4321cac23a127\n",
      "http://data.biographynet.nl/rdf/PersonDes-44287831_05\n",
      "Nb4b441084e3044a1b06f8ddcec262f32\n",
      "http://data.biographynet.nl/rdf/PersonDes-44287831_05\n",
      "http://data.biographynet.nl/rdf/BioDes-44287831_05\n",
      "http://data.biographynet.nl/rdf/PersonDes-44287831_05\n",
      "http://data.biographynet.nl/rdf/PersonDes-44287831_05\n",
      "http://data.biographynet.nl/rdf/PersonDes-44287831_05\n",
      "http://data.biographynet.nl/rdf/PersonDes-44287831_05\n",
      "http://data.biographynet.nl/rdf/PersonDes-44287831_05\n",
      "Nb4b441084e3044a1b06f8ddcec262f32\n",
      "http://data.biographynet.nl/rdf/PersonDes-44287831_05\n",
      "Nb4b441084e3044a1b06f8ddcec262f32\n",
      "http://data.biographynet.nl/rdf/PersonDes-44287831_05\n",
      "http://data.biographynet.nl/rdf/PersonDes-44287831_05\n",
      "http://data.biographynet.nl/rdf/PersonDes-44287831_05\n",
      "N232898386ea14045a0a4321cac23a127\n",
      "http://data.biographynet.nl/rdf/PersonDes-44287831_05\n",
      "N232898386ea14045a0a4321cac23a127\n",
      "http://data.biographynet.nl/rdf/PersonDes-44287831_05\n"
     ]
    }
   ],
   "source": [
    "for s, p, o in g:\n",
    "    print(s)"
   ]
  },
  {
   "cell_type": "code",
   "execution_count": 32,
   "id": "c0aeac38",
   "metadata": {},
   "outputs": [
    {
     "name": "stdout",
     "output_type": "stream",
     "text": [
      "Delft\n",
      "92709101\n",
      "death\n",
      "http://data.biographynet.nl/rdf/Event\n",
      "http://data.biographynet.nl/rdf/Event\n",
      "1768-10-11\n",
      "Nb4b441084e3044a1b06f8ddcec262f32\n",
      "Warnsveld\n",
      "443924106\n",
      "http://data.biographynet.nl/rdf/PersonDes-44287831_05\n",
      "ende004\n",
      "http://data.biographynet.nl/rdf/FileDes-73863490_01\n",
      "11526181\n",
      "http://data.biographynet.nl/rdf/BioDes-44287831_05\n",
      "N232898386ea14045a0a4321cac23a127\n",
      "1846-06-28\n",
      "dbnl\n",
      "28 juni 1846\n",
      "44287831\n",
      "http://data.biographynet.nl/rdf/Person-44287831\n",
      "http://data.biographynet.nl/rdf/PersonDes\n",
      "birth\n",
      "Ende, Adriaan van den\n",
      "11 oktober 1768\n",
      "http://www.openarchives.org/ore/terms/Proxy\n"
     ]
    }
   ],
   "source": [
    "for s, p, o in g:\n",
    "    print(o)"
   ]
  },
  {
   "cell_type": "code",
   "execution_count": 33,
   "id": "cdd76cf2",
   "metadata": {},
   "outputs": [
    {
     "name": "stdout",
     "output_type": "stream",
     "text": [
      "N232898386ea14045a0a4321cac23a127 http://data.biographynet.nl/rdf/place Delft\n",
      "http://data.biographynet.nl/rdf/PersonDes-44287831_05 http://data.biographynet.nl/rdf/idno 92709101\n",
      "Nb4b441084e3044a1b06f8ddcec262f32 http://data.biographynet.nl/rdf/type death\n",
      "Nb4b441084e3044a1b06f8ddcec262f32 http://www.w3.org/1999/02/22-rdf-syntax-ns#type http://data.biographynet.nl/rdf/Event\n",
      "N232898386ea14045a0a4321cac23a127 http://www.w3.org/1999/02/22-rdf-syntax-ns#type http://data.biographynet.nl/rdf/Event\n",
      "N232898386ea14045a0a4321cac23a127 http://data.biographynet.nl/rdf/when 1768-10-11\n",
      "http://data.biographynet.nl/rdf/PersonDes-44287831_05 http://data.biographynet.nl/rdf/event Nb4b441084e3044a1b06f8ddcec262f32\n",
      "Nb4b441084e3044a1b06f8ddcec262f32 http://data.biographynet.nl/rdf/place Warnsveld\n",
      "http://data.biographynet.nl/rdf/PersonDes-44287831_05 http://data.biographynet.nl/rdf/idno 443924106\n",
      "http://data.biographynet.nl/rdf/BioDes-44287831_05 http://data.biographynet.nl/rdf/hasPersonDes http://data.biographynet.nl/rdf/PersonDes-44287831_05\n",
      "http://data.biographynet.nl/rdf/PersonDes-44287831_05 http://data.biographynet.nl/rdf/idno ende004\n",
      "http://data.biographynet.nl/rdf/PersonDes-44287831_05 http://data.biographynet.nl/rdf/sex http://data.biographynet.nl/rdf/FileDes-73863490_01\n",
      "http://data.biographynet.nl/rdf/PersonDes-44287831_05 http://data.biographynet.nl/rdf/idno 11526181\n",
      "http://data.biographynet.nl/rdf/PersonDes-44287831_05 http://www.openarchives.org/ore/terms/proxyIn http://data.biographynet.nl/rdf/BioDes-44287831_05\n",
      "http://data.biographynet.nl/rdf/PersonDes-44287831_05 http://data.biographynet.nl/rdf/event N232898386ea14045a0a4321cac23a127\n",
      "Nb4b441084e3044a1b06f8ddcec262f32 http://data.biographynet.nl/rdf/when 1846-06-28\n",
      "http://data.biographynet.nl/rdf/PersonDes-44287831_05 http://data.biographynet.nl/rdf/idno dbnl\n",
      "Nb4b441084e3044a1b06f8ddcec262f32 http://data.biographynet.nl/rdf/date 28 juni 1846\n",
      "http://data.biographynet.nl/rdf/PersonDes-44287831_05 http://data.biographynet.nl/rdf/idno 44287831\n",
      "http://data.biographynet.nl/rdf/PersonDes-44287831_05 http://www.openarchives.org/ore/terms/proxyFor http://data.biographynet.nl/rdf/Person-44287831\n",
      "http://data.biographynet.nl/rdf/PersonDes-44287831_05 http://www.w3.org/1999/02/22-rdf-syntax-ns#type http://data.biographynet.nl/rdf/PersonDes\n",
      "N232898386ea14045a0a4321cac23a127 http://data.biographynet.nl/rdf/type birth\n",
      "http://data.biographynet.nl/rdf/PersonDes-44287831_05 http://data.biographynet.nl/rdf/personName Ende, Adriaan van den\n",
      "N232898386ea14045a0a4321cac23a127 http://data.biographynet.nl/rdf/date 11 oktober 1768\n",
      "http://data.biographynet.nl/rdf/PersonDes-44287831_05 http://www.w3.org/1999/02/22-rdf-syntax-ns#type http://www.openarchives.org/ore/terms/Proxy\n"
     ]
    }
   ],
   "source": [
    "for s, p, o in g:\n",
    "    print(s,p,o)"
   ]
  },
  {
   "cell_type": "code",
   "execution_count": 34,
   "id": "ae6d1dfd",
   "metadata": {},
   "outputs": [
    {
     "data": {
      "text/plain": [
       "<Graph identifier=N2d1aa61cae31490695d0e587f4026813 (<class 'rdflib.graph.Graph'>)>"
      ]
     },
     "execution_count": 34,
     "metadata": {},
     "output_type": "execute_result"
    }
   ],
   "source": [
    "#To store a graph in a file, use the rdflib.Graph.serialize() function:\n",
    "from rdflib import Graph\n",
    "\n",
    "g = Graph()\n",
    "g.parse(\"http://data.biographynet.nl/rdf/PersonDes-44287831_05\")\n",
    "g.serialize(destination=\"loan.ttl\")"
   ]
  },
  {
   "cell_type": "code",
   "execution_count": 1,
   "id": "54d7e6e7",
   "metadata": {},
   "outputs": [
    {
     "data": {
      "text/plain": [
       "'<?xml version=\"1.0\" encoding=\"UTF-8\"?>\\n<rdf:RDF\\n   xmlns:bgn=\"http://data.biographynet.nl/rdf/\"\\n   xmlns:ore=\"http://www.openarchives.org/ore/terms/\"\\n   xmlns:rdf=\"http://www.w3.org/1999/02/22-rdf-syntax-ns#\"\\n>\\n  <rdf:Description rdf:about=\"http://data.biographynet.nl/rdf/PersonDes-44287831_05\">\\n    <rdf:type rdf:resource=\"http://data.biographynet.nl/rdf/PersonDes\"/>\\n    <rdf:type rdf:resource=\"http://www.openarchives.org/ore/terms/Proxy\"/>\\n    <bgn:personName>Ende, Adriaan van den</bgn:personName>\\n    <bgn:event rdf:nodeID=\"Nfaa32fd3715c4a91bdbc502e77206efc\"/>\\n    <bgn:event rdf:nodeID=\"N565f190cd7cc44a7890fd899db0e459d\"/>\\n    <bgn:idno>11526181</bgn:idno>\\n    <bgn:idno>44287831</bgn:idno>\\n    <bgn:idno>443924106</bgn:idno>\\n    <bgn:idno>92709101</bgn:idno>\\n    <bgn:idno>dbnl</bgn:idno>\\n    <bgn:idno>ende004</bgn:idno>\\n    <bgn:sex rdf:resource=\"http://data.biographynet.nl/rdf/FileDes-73863490_01\"/>\\n    <ore:proxyFor rdf:resource=\"http://data.biographynet.nl/rdf/Person-44287831\"/>\\n    <ore:proxyIn rdf:resource=\"http://data.biographynet.nl/rdf/BioDes-44287831_05\"/>\\n  </rdf:Description>\\n  <rdf:Description rdf:nodeID=\"Nfaa32fd3715c4a91bdbc502e77206efc\">\\n    <rdf:type rdf:resource=\"http://data.biographynet.nl/rdf/Event\"/>\\n    <bgn:date>11 oktober 1768</bgn:date>\\n    <bgn:place>Delft</bgn:place>\\n    <bgn:type>birth</bgn:type>\\n    <bgn:when>1768-10-11</bgn:when>\\n  </rdf:Description>\\n  <rdf:Description rdf:nodeID=\"N565f190cd7cc44a7890fd899db0e459d\">\\n    <rdf:type rdf:resource=\"http://data.biographynet.nl/rdf/Event\"/>\\n    <bgn:date>28 juni 1846</bgn:date>\\n    <bgn:place>Warnsveld</bgn:place>\\n    <bgn:type>death</bgn:type>\\n    <bgn:when>1846-06-28</bgn:when>\\n  </rdf:Description>\\n  <rdf:Description rdf:about=\"http://data.biographynet.nl/rdf/BioDes-44287831_05\">\\n    <bgn:hasPersonDes rdf:resource=\"http://data.biographynet.nl/rdf/PersonDes-44287831_05\"/>\\n  </rdf:Description>\\n</rdf:RDF>\\n'"
      ]
     },
     "execution_count": 1,
     "metadata": {},
     "output_type": "execute_result"
    }
   ],
   "source": [
    "# save file RD/XML\n",
    "from rdflib import Graph\n",
    "\n",
    "g = Graph()\n",
    "g.parse(\"http://data.biographynet.nl/rdf/PersonDes-44287831_05\")\n",
    "g.serialize(format=\"xml\")"
   ]
  },
  {
   "cell_type": "code",
   "execution_count": null,
   "id": "4d08b258",
   "metadata": {},
   "outputs": [],
   "source": []
  }
 ],
 "metadata": {
  "kernelspec": {
   "display_name": "Python 3 (ipykernel)",
   "language": "python",
   "name": "python3"
  },
  "language_info": {
   "codemirror_mode": {
    "name": "ipython",
    "version": 3
   },
   "file_extension": ".py",
   "mimetype": "text/x-python",
   "name": "python",
   "nbconvert_exporter": "python",
   "pygments_lexer": "ipython3",
   "version": "3.8.10"
  }
 },
 "nbformat": 4,
 "nbformat_minor": 5
}
